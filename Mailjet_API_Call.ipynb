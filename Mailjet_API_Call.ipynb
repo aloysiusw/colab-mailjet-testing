{
  "nbformat": 4,
  "nbformat_minor": 0,
  "metadata": {
    "colab": {
      "provenance": [],
      "toc_visible": true,
      "include_colab_link": true
    },
    "kernelspec": {
      "name": "python3",
      "display_name": "Python 3"
    },
    "language_info": {
      "name": "python"
    }
  },
  "cells": [
    {
      "cell_type": "markdown",
      "metadata": {
        "id": "view-in-github",
        "colab_type": "text"
      },
      "source": [
        "<a href=\"https://colab.research.google.com/github/aloysiusw/colab-mailjet-testing/blob/main/Mailjet_API_Call.ipynb\" target=\"_parent\"><img src=\"https://colab.research.google.com/assets/colab-badge.svg\" alt=\"Open In Colab\"/></a>"
      ]
    },
    {
      "cell_type": "markdown",
      "source": [
        "# Setup\n",
        "\n",
        "Install prerequisites, setup API keys"
      ],
      "metadata": {
        "id": "oarZ_JstowOP"
      }
    },
    {
      "cell_type": "code",
      "source": [
        "!pip install mailjet_rest"
      ],
      "metadata": {
        "id": "4MeRj_6i-XGD"
      },
      "execution_count": null,
      "outputs": []
    },
    {
      "cell_type": "code",
      "source": [
        "from mailjet_rest import Client\n",
        "api_key = None #@param\n",
        "api_secret = None #@param\n",
        "\n",
        "mailjet = Client(auth=(api_key, api_secret), version='v3.1')"
      ],
      "metadata": {
        "id": "d226KrIUo3Xo"
      },
      "execution_count": null,
      "outputs": []
    },
    {
      "cell_type": "markdown",
      "source": [
        "# Global Variables"
      ],
      "metadata": {
        "id": "f0VjaLyZJu8_"
      }
    },
    {
      "cell_type": "code",
      "source": [
        "# @markdown # General\n",
        "# @markdown Name of the sender\n",
        "senderName = None # @param\n",
        "# @markdown Email of the sender\n",
        "senderEmail = None # @param\n",
        "# @markdown Name of the recipient\n",
        "recipientName = None # @param\n",
        "# @markdown Email of the recipient\n",
        "recipientEmail = None # @param\n",
        "# @markdown Example Description #1\n",
        "exampleVariableOne = None # @param\n",
        "# @markdown ----"
      ],
      "metadata": {
        "id": "ZLvRcIOoJuhj"
      },
      "execution_count": null,
      "outputs": []
    },
    {
      "cell_type": "markdown",
      "source": [
        "# API call\n"
      ],
      "metadata": {
        "id": "ilZONEh0DOOL"
      }
    },
    {
      "cell_type": "code",
      "source": [
        "# @markdown Template ID\n",
        "templateID = None #@param\n",
        "# @markdown Subject\n",
        "subjectText = None #@param\n",
        "data = {\n",
        "  'Messages':\n",
        "  [\n",
        "\t\t{\n",
        "\t\t\t\"From\":\n",
        "      {\n",
        "\t\t\t\t\"Email\": senderEmail,\n",
        "\t\t\t\t\"Name\": senderName\n",
        "\t\t\t},\n",
        "\t\t\t\"To\":\n",
        "      [\n",
        "\t\t\t\t{\n",
        "\t\t\t\t\t\"Email\": recipientEmail,\n",
        "\t\t\t\t\t\"Name\": recipientName\n",
        "\t\t\t\t}\n",
        "\t\t\t],\n",
        "\t\t\t\"TemplateID\": templateID,\n",
        "\t\t\t\"TemplateLanguage\": True,\n",
        "\t\t\t\"Subject\": subjectText,\n",
        "\t\t\t\"Variables\":\n",
        "      {\n",
        "        \"exampleVariableOne\":exampleVariableOne\n",
        "      }\n",
        "\t\t}\n",
        "\t]\n",
        "}\n",
        "result = mailjet.send.create(data=data)\n",
        "print (result.status_code)\n",
        "print (result.json())"
      ],
      "metadata": {
        "id": "Q5_uqE7FE2PQ"
      },
      "execution_count": null,
      "outputs": []
    }
  ]
}